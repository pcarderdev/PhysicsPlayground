{
 "cells": [
  {
   "cell_type": "code",
   "execution_count": 2,
   "id": "6bf2b495-fa14-4bcb-bd2c-f2d6abbb2945",
   "metadata": {},
   "outputs": [],
   "source": [
    "import numpy as np\n",
    "import sympy as sp\n",
    "import matplotlib.pyplot as plt"
   ]
  },
  {
   "cell_type": "code",
   "execution_count": 38,
   "id": "096ed976-e4c4-45e4-824a-0f83c9ad3398",
   "metadata": {},
   "outputs": [
    {
     "data": {
      "text/plain": [
       "Text(0.5, 1.0, 'Projectile Motion')"
      ]
     },
     "execution_count": 38,
     "metadata": {},
     "output_type": "execute_result"
    },
    {
     "data": {
      "image/png": "[encoded data removed]",
      "text/plain": [
       "<Figure size 640x480 with 1 Axes>"
      ]
     },
     "metadata": {},
     "output_type": "display_data"
    }
   ],
   "source": [
    "import numpy as np\n",
    "\n",
    "### Initial conditions\n",
    "# Position\n",
    "x0 = 0\n",
    "y0 = 10\n",
    "\n",
    "# Velocity \n",
    "v0 = 10\n",
    "theta = np.pi/4\n",
    "\n",
    "# Acceleration\n",
    "g = -9.81 \n",
    "k = 2.3\n",
    "\n",
    "# Time\n",
    "t_min = 0\n",
    "t_max = 5\n",
    "dt = 0.01\n",
    "T = np.linspace(t_min,t_max,101)\n",
    "\n",
    "\n",
    "\n",
    "def analytical_2d_motion(x0, y0, v0, theta, t_min, t_max, dt):\n",
    "    \"\"\"\n",
    "    This function performs the analytical evaluation of an object's motion\n",
    "\n",
    "    Args:\n",
    "        x0 (float):\n",
    "        y0 (float):\n",
    "        v0 (float):\n",
    "        theta (float):\n",
    "        t_min (int):\n",
    "        t_max (int):\n",
    "        dt (float):\n",
    "\n",
    "    Returns:\n",
    "        X [float]: position values\n",
    "        Y [float]: position values\n",
    "    \"\"\"\n",
    "    # Perform analytical calculation of X,Y positions\n",
    "    n = int((t_max-t_min) / dt) + 1\n",
    "    T = np.linspace(t_min,t_max,n)\n",
    "    vx0 = v0 * np.cos(theta)\n",
    "    vy0 = v0 * np.sin(theta)\n",
    "    X = x0 + vx0*T\n",
    "    Y = y0 + vy0*T + 0.5*g*(T**2)\n",
    "\n",
    "    # Only return values where y > 0:\n",
    "    Y = [n for n in Y if n > 0]\n",
    "    X = X[:len(Y)]\n",
    "    \n",
    "    return X,Y\n",
    "\n",
    "def numerical_2d_motion(x0, y0, v0, theta, t_min, t_max, dt):\n",
    "    \"\"\"\n",
    "    This function performs the numerical evaluation of an object's motion using Euler's method\n",
    "\n",
    "    Args:\n",
    "        x0 (float):\n",
    "        y0 (float):\n",
    "        v0 (float):\n",
    "        theta (float):\n",
    "        t_min (int):\n",
    "        t_max (int):\n",
    "        dt (float):\n",
    "\n",
    "    Returns:\n",
    "        X [float]: position values\n",
    "        Y [float]: position values\n",
    "    \"\"\"\n",
    "    n = int((t_max-t_min) / dt) + 1\n",
    "\n",
    "    X = np.zeros(n)\n",
    "    X[0] = x0\n",
    "    Y = np.zeros(n)\n",
    "    Y[0] = y0\n",
    "\n",
    "    t = t_min\n",
    "    vx = v0 * np.cos(theta)\n",
    "    vy = v0 * np.sin(theta)\n",
    "    \n",
    "    for i in range(1, n):\n",
    "        t = t + dt\n",
    "       \n",
    "        X[i] = X[i-1] + vx*dt \n",
    "        Y[i] = Y[i-1] + vy*dt\n",
    "\n",
    "        ax = -k*vx\n",
    "        ay = g - k*vy\n",
    "        \n",
    "        vx = vx + ax*dt\n",
    "        vy = vy + ay*dt\n",
    "\n",
    "        if Y[i] < 0:\n",
    "            X = X[:i+1]\n",
    "            Y = Y[:i+1]\n",
    "            break\n",
    "\n",
    "    return x, y\n",
    "\n",
    "plt.close()\n",
    "X,Y = numerical_2d_motion(x0,y0,v0,theta,t_min,t_max,dt)\n",
    "plt.plot(X,Y,'b')\n",
    "X,Y = analytical_2d_motion(x0,y0,v0,theta,t_min,t_max,dt)\n",
    "plt.plot(X,Y,'g')\n",
    "plt.xlabel('x')\n",
    "plt.ylabel('y')\n",
    "plt.title('Projectile Motion')"
   ]
  },
  {
   "cell_type": "code",
   "execution_count": null,
   "id": "8cf2ab6d-4bfe-48da-990a-d9d62e8f3376",
   "metadata": {},
   "outputs": [],
   "source": []
  }
 ],
 "metadata": {
  "kernelspec": {
   "display_name": "Python 3 (ipykernel)",
   "language": "python",
   "name": "python3"
  },
  "language_info": {
   "codemirror_mode": {
    "name": "ipython",
    "version": 3
   },
   "file_extension": ".py",
   "mimetype": "text/x-python",
   "name": "python",
   "nbconvert_exporter": "python",
   "pygments_lexer": "ipython3",
   "version": "3.12.5"
  }
 },
 "nbformat": 4,
 "nbformat_minor": 5
}
